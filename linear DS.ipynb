{
 "cells": [
  {
   "cell_type": "code",
   "execution_count": 2,
   "id": "bd841877",
   "metadata": {},
   "outputs": [
    {
     "name": "stdout",
     "output_type": "stream",
     "text": [
      "Count = 2\n"
     ]
    }
   ],
   "source": [
    "def getsumcount(arr, n, sum):\n",
    " \n",
    "    count = 0 \n",
    "    \n",
    "    for i in range(0, n):\n",
    "        for j in range(i + 1, n):\n",
    "            if arr[i] + arr[j] == sum:\n",
    "                count += 1\n",
    " \n",
    "    return count\n",
    " \n",
    "arr = [4,8,2,5,8,7,2,5,9,3]\n",
    "n = len(arr)\n",
    "sum = 6\n",
    "print(\"Count =\", getsumcount(arr, n, sum))"
   ]
  },
  {
   "cell_type": "code",
   "execution_count": 18,
   "id": "7237b28f",
   "metadata": {},
   "outputs": [
    {
     "name": "stdout",
     "output_type": "stream",
     "text": [
      "[1, 2, 3, 4, 5, 6]\n",
      "Reversed list is\n",
      "[6, 5, 4, 3, 2, 1]\n"
     ]
    }
   ],
   "source": [
    "def reverselist(A):\n",
    "    start = 0\n",
    "    end = len(A)-1\n",
    "    while start < end:\n",
    "        A[start], A[end] = A[end], A[start]\n",
    "        start += 1\n",
    "        end -= 1\n",
    "        \n",
    " \n",
    "A = [1, 2, 3, 4, 5, 6]\n",
    "print(A)\n",
    "reverselist(A)\n",
    "print(\"Reversed list :\")\n",
    "print(A)\n"
   ]
  },
  {
   "cell_type": "code",
   "execution_count": 28,
   "id": "e4aa7e4b",
   "metadata": {},
   "outputs": [
    {
     "name": "stdout",
     "output_type": "stream",
     "text": [
      "strings are rotation of each other\n"
     ]
    }
   ],
   "source": [
    "def checkString(s1, s2):\n",
    "    if(len(s1) != len(s2)):\n",
    "        print(\"strings are not rotation of each other\")\n",
    "        \n",
    "    else:\n",
    "        temp = s1 +s1\n",
    "        \n",
    "        if s2 in temp:\n",
    "            print(\"strings are rotation of each other\")\n",
    "        else:\n",
    "            print(\"strings are not rotation of each other\")\n",
    "            \n",
    "\n",
    "s1 = \"MONSTER\"\n",
    "s2 = \"STERMON\"\n",
    "\n",
    "checkString(s1,s2)\n"
   ]
  },
  {
   "cell_type": "code",
   "execution_count": 41,
   "id": "ec66a56c",
   "metadata": {},
   "outputs": [
    {
     "data": {
      "text/plain": [
       "'r'"
      ]
     },
     "execution_count": 41,
     "metadata": {},
     "output_type": "execute_result"
    }
   ],
   "source": [
    "def nonrepeated(str):\n",
    "\n",
    "    for i in str:\n",
    "        if str.count(i) == 1:\n",
    "            return i\n",
    "    else:\n",
    "        print(\"no non repeating character\")\n",
    "\n",
    "nonrepeated('repeating')\n",
    "        "
   ]
  },
  {
   "cell_type": "code",
   "execution_count": null,
   "id": "e774df40",
   "metadata": {},
   "outputs": [],
   "source": []
  },
  {
   "cell_type": "code",
   "execution_count": null,
   "id": "075993d8",
   "metadata": {},
   "outputs": [],
   "source": []
  }
 ],
 "metadata": {
  "kernelspec": {
   "display_name": "Python 3 (ipykernel)",
   "language": "python",
   "name": "python3"
  },
  "language_info": {
   "codemirror_mode": {
    "name": "ipython",
    "version": 3
   },
   "file_extension": ".py",
   "mimetype": "text/x-python",
   "name": "python",
   "nbconvert_exporter": "python",
   "pygments_lexer": "ipython3",
   "version": "3.11.2"
  }
 },
 "nbformat": 4,
 "nbformat_minor": 5
}
